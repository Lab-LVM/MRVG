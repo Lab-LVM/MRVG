{
 "cells": [
  {
   "cell_type": "markdown",
   "metadata": {},
   "source": [
    "## Audio_Beat"
   ]
  },
  {
   "cell_type": "code",
   "execution_count": null,
   "metadata": {},
   "outputs": [],
   "source": [
    "import sys\n",
    "sys.path.append('./visbeat')\n",
    "from Audio import *\n",
    "import matplotlib.pyplot as plt\n",
    "import pickle\n",
    "\n",
    "# Extract audio from video file\n",
    "audio_path = './Rock_You_Like_a_Hurricane_Scorpions_vocal.wav'\n",
    "# Create an audio object\n",
    "audio = Audio(path=audio_path, name='audio')\n",
    "\n",
    "# Extract and visualize beats\n",
    "mplt, bvals, btimes = audio.plotBeats()\n",
    "bvals = list(bvals)\n",
    "btimes = list(btimes)\n",
    "\n",
    "# Display the times when beats occur on the x-axis\n",
    "plt.figure(figsize=(12, 6))\n",
    "plt.plot(btimes, bvals, 'bo-', label='Beats')\n",
    "plt.xlabel('Time (s)')\n",
    "plt.ylabel('Beat Values')\n",
    "plt.title('Beat Detection Over Time')\n",
    "plt.xticks(btimes, [f'{time:.2f}' for time in btimes], rotation=45, ha='right')\n",
    "plt.legend()\n",
    "plt.tight_layout()\n",
    "plt.show()\n",
    "\n",
    "# Save the beat values and times to a file\n",
    "with open('./', 'wb') as file:\n",
    "    pickle.dump(bvals, file)\n",
    "with open('./', 'wb') as file:\n",
    "    pickle.dump(btimes, file)\n"
   ]
  },
  {
   "cell_type": "markdown",
   "metadata": {},
   "source": [
    "## Visual_Beat"
   ]
  },
  {
   "cell_type": "code",
   "execution_count": null,
   "metadata": {},
   "outputs": [],
   "source": [
    "video_path= './'\n",
    "name = 'supernatural_chroma_cqt'\n",
    "video = Video(path=video_path, name=name)\n",
    "a = video.printVisualBeatSequences()\n",
    "\n",
    "visual_beat_weigths = []\n",
    "visual_beat_start_time = []\n",
    "\n",
    "for j in range(len(a[0])):\n",
    "    visual_beat_weigths.append(a[0][j].weight)\n",
    "    visual_beat_start_time.append(a[0][j].start)\n",
    "        \n",
    "    beat_file_path = './'\n",
    "    time_file_path = './'\n",
    "    \n",
    "# Save the beat values and times to a file\n",
    "    with open(beat_file_path, 'wb') as file:\n",
    "        pickle.dump(visual_beat_weigths, file)\n",
    "\n",
    "    with open(time_file_path, 'wb') as file:\n",
    "        pickle.dump(visual_beat_start_time, file)"
   ]
  }
 ],
 "metadata": {
  "language_info": {
   "name": "python"
  }
 },
 "nbformat": 4,
 "nbformat_minor": 2
}
